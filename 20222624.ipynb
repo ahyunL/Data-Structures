{
  "nbformat": 4,
  "nbformat_minor": 0,
  "metadata": {
    "colab": {
      "provenance": []
    },
    "kernelspec": {
      "name": "python3",
      "display_name": "Python 3"
    },
    "language_info": {
      "name": "python"
    }
  },
  "cells": [
    {
      "cell_type": "markdown",
      "source": [
        "# __1. LeetCode 225. Implement Stack using Queues__"
      ],
      "metadata": {
        "id": "tNfbVjm9QM9Q"
      }
    },
    {
      "cell_type": "code",
      "source": [
        "class MyStack:\n",
        "\n",
        "    def __init__(self):\n",
        "        self.q = deque()\n",
        "\n",
        "    def push(self, x: int) -> None:\n",
        "        self.q.append(x)\n",
        "        for i in range(len(self.q) - 1):\n",
        "            self.q.append(self.q.popleft())\n",
        "\n",
        "    def pop(self) -> int:\n",
        "        return self.q.popleft()\n",
        "\n",
        "    def top(self) -> int:\n",
        "        return self.q[0]\n",
        "\n",
        "    def empty(self) -> bool:\n",
        "        return len(self.q) == 0"
      ],
      "metadata": {
        "id": "BOny-bDXQYW6"
      },
      "execution_count": null,
      "outputs": []
    },
    {
      "cell_type": "markdown",
      "source": [
        "#### 💡 풀이 설명\n",
        "- push 시 큐에 추가한 후, 이전에 있던 요소들을 다시 뒤로 보내서 순서를 바꿈\n",
        "- pop과 top은 큐의 맨 앞 요소를 그대로 꺼내면 됨"
      ],
      "metadata": {
        "id": "kiFqK4TdWVdx"
      }
    },
    {
      "cell_type": "markdown",
      "source": [
        "# __2. LeetCode 232. Implement Queue using Stacks__"
      ],
      "metadata": {
        "id": "X5RkMVN6QZTh"
      }
    },
    {
      "cell_type": "code",
      "source": [
        "class MyQueue:\n",
        "\n",
        "    def __init__(self):\n",
        "        self.stack1 = []\n",
        "        self.stack2 = []\n",
        "\n",
        "    def push(self, x: int) -> None:\n",
        "        self.stack1.append(x)\n",
        "\n",
        "    def pop(self) -> int:\n",
        "        self.peek()\n",
        "        return self.stack2.pop()\n",
        "\n",
        "    def peek(self) -> int:\n",
        "        if not self.stack2:\n",
        "            while self.stack1:\n",
        "                self.stack2.append(self.stack1.pop())\n",
        "        return self.stack2[-1]\n",
        "\n",
        "    def empty(self) -> bool:\n",
        "        return not self.stack1 and not self.stack2"
      ],
      "metadata": {
        "id": "zdcqQS6vQhLa"
      },
      "execution_count": null,
      "outputs": []
    },
    {
      "cell_type": "markdown",
      "source": [
        "#### 💡 풀이 설명\n",
        "- stack1은 새로 들어오는 값 보관  \n",
        "- stack2는 꺼낼 때만 사용, 비어 있으면 stack1의 값을 모두 옮겨서 순서 뒤집기  \n",
        "\n",
        " → 이렇게 하면 Queue의 FIFO 구조가 구현됨"
      ],
      "metadata": {
        "id": "jgvW0QMMXWYc"
      }
    },
    {
      "cell_type": "markdown",
      "source": [
        "# __3. 교재의 큐 연습문제 전부__"
      ],
      "metadata": {
        "id": "pfDVkzHDQhqf"
      }
    },
    {
      "cell_type": "markdown",
      "source": [
        "## __3-1__"
      ],
      "metadata": {
        "id": "Q3HaEqjAaF6w"
      }
    },
    {
      "cell_type": "code",
      "source": [
        "class ListQueue:\n",
        "  def __init__(self):\n",
        "    self.__queue = []\n",
        "\n",
        "  def enqueue(self, x):\n",
        "    self.__queue.insert(0, x)\n",
        "\n",
        "  def dequeue(self):\n",
        "    return self.__queue.pop()\n",
        "\n",
        "  def front(self):\n",
        "    return self.__queue[-1]\n",
        "\n",
        "  def isEmpty(self) -> bool:\n",
        "    return len(self.__queue) == 0\n",
        "\n",
        "  def dequeueAll(self):\n",
        "    self.__queue.clear()"
      ],
      "metadata": {
        "id": "6LHQHfFNQlx_"
      },
      "execution_count": null,
      "outputs": []
    },
    {
      "cell_type": "markdown",
      "source": [
        "#### 변경할 부분\n",
        "- 리스트의 앞이 tail → 즉, 데이터를 앞에 넣고, 뒤에서 제거해야 함\n",
        "  - enqueue에서는 insert(0, x) 사용\n",
        "  - dequeue에서는 pop() 사용  "
      ],
      "metadata": {
        "id": "08xtWEaVbo7k"
      }
    },
    {
      "cell_type": "markdown",
      "source": [
        "## __3-2__"
      ],
      "metadata": {
        "id": "M9k5aPuCaMQO"
      }
    },
    {
      "cell_type": "code",
      "source": [
        "from collections import deque\n",
        "\n",
        "def is_in_language(s):\n",
        "    q = deque()\n",
        "    i = 0\n",
        "\n",
        "    # '$' 앞까지를 큐에 저장\n",
        "    while i < len(s) and s[i] != '$':\n",
        "        q.append(s[i])\n",
        "        i += 1\n",
        "\n",
        "    # '$'가 없거나 맨 끝이면 잘못된 형식\n",
        "    if i == len(s) or i == len(s) - 1:\n",
        "        return False\n",
        "\n",
        "    i += 1  # '$' 다음 문자부터 비교 시작\n",
        "\n",
        "    # 큐에서 하나씩 꺼내며 비교\n",
        "    while i < len(s):\n",
        "        if not q or s[i] != q.popleft():\n",
        "            return False\n",
        "        i += 1\n",
        "\n",
        "    # 모든 문자 비교 끝났을 때 큐가 비었는지도 확인\n",
        "    return len(q) == 0\n"
      ],
      "metadata": {
        "id": "UmOogwSgaN4l"
      },
      "execution_count": null,
      "outputs": []
    },
    {
      "cell_type": "markdown",
      "source": [
        "#### 💡 풀이 설명\n",
        "- `$` 앞부분을 큐에 저장하고,\n",
        "- `$` 이후 문자들과 큐에서 꺼낸 문자를 순서대로 비교"
      ],
      "metadata": {
        "id": "WSiVH6Bjd8Cc"
      }
    },
    {
      "cell_type": "markdown",
      "source": [
        "## __3-3__"
      ],
      "metadata": {
        "id": "NOW7S7GpaQMk"
      }
    },
    {
      "cell_type": "code",
      "source": [
        "def copy_queue(a):\n",
        "    b = LinkedQueue()\n",
        "    temp = LinkedQueue()\n",
        "\n",
        "    while not a.isEmpty():\n",
        "        item = a.dequeue()\n",
        "        b.enqueue(item)\n",
        "        temp.enqueue(item)\n",
        "\n",
        "    while not temp.isEmpty():\n",
        "        a.enqueue(temp.dequeue())\n",
        "\n",
        "    return b"
      ],
      "metadata": {
        "id": "1QIQJUL2eqap"
      },
      "execution_count": null,
      "outputs": []
    },
    {
      "cell_type": "markdown",
      "source": [
        "## __3-4__"
      ],
      "metadata": {
        "id": "U8QqsYccaSmX"
      }
    },
    {
      "cell_type": "code",
      "source": [
        "from collections import deque\n",
        "\n",
        "class StackUsingQueues:\n",
        "    def __init__(self):\n",
        "        self.q1 = deque()\n",
        "        self.q2 = deque()\n",
        "\n",
        "    def push(self, x):\n",
        "        self.q1.append(x)\n",
        "\n",
        "    def pop(self):\n",
        "        while len(self.q1) > 1:\n",
        "            self.q2.append(self.q1.popleft())\n",
        "        top = self.q1.popleft()\n",
        "\n",
        "        self.q1, self.q2 = self.q2, self.q1\n",
        "        return top\n"
      ],
      "metadata": {
        "id": "uzBpxxmPaSU4"
      },
      "execution_count": null,
      "outputs": []
    },
    {
      "cell_type": "markdown",
      "source": [
        "#### 💡 풀이 설명\n",
        "- `push(x)`는 큐1에 그대로 추가\n",
        "- `pop()`은 큐1의 앞에서부터의 요소를 큐2로 옮기고, 마지막 요소만 꺼낸 뒤 큐 교체"
      ],
      "metadata": {
        "id": "WHxpdEvlfMl9"
      }
    },
    {
      "cell_type": "markdown",
      "source": [
        "## __3-5__"
      ],
      "metadata": {
        "id": "6C9YmWAhaUEA"
      }
    },
    {
      "cell_type": "code",
      "source": [
        "class QueueUsingStacks:\n",
        "    def __init__(self):\n",
        "        self.in_stack = []\n",
        "        self.out_stack = []\n",
        "\n",
        "    def enqueue(self, x):\n",
        "        self.in_stack.append(x)\n",
        "\n",
        "    def dequeue(self):\n",
        "        if not self.out_stack:\n",
        "            while self.in_stack:\n",
        "                self.out_stack.append(self.in_stack.pop())\n",
        "        return self.out_stack.pop()"
      ],
      "metadata": {
        "id": "Pd5OpINjaU9I"
      },
      "execution_count": null,
      "outputs": []
    },
    {
      "cell_type": "markdown",
      "source": [
        "#### 💡 풀이 설명\n",
        "- `enqueue(x)`는 in_stack에 push\n",
        "- `dequeue()`는 out_stack이 비어 있으면 in_stack의 모든 요소를 이동시킨 후 pop"
      ],
      "metadata": {
        "id": "u1x8M9AJfi4r"
      }
    },
    {
      "cell_type": "markdown",
      "source": [
        "## __3-6__"
      ],
      "metadata": {
        "id": "_EVel3dgaVZa"
      }
    },
    {
      "cell_type": "markdown",
      "source": [
        "- `enqueue()`: 리스트의 tail에 노드를 추가  \n",
        "  → **tail 포인터 유지 시 O(1)**  \n",
        "- `dequeue()`: 리스트의 head에서 노드를 제거  \n",
        "  → **head 포인터 유지 시 O(1)**\n",
        "\n",
        "➡️ 따라서 큐의 크기가 `n`일 때,  \n",
        "**`enqueue()`와 `dequeue()`의 수행 시간은 모두 O(1)** 이다."
      ],
      "metadata": {
        "id": "s7gSiHoQmr5O"
      }
    },
    {
      "cell_type": "markdown",
      "source": [
        "## __3-7__"
      ],
      "metadata": {
        "id": "geqCRRxJaXAN"
      }
    },
    {
      "cell_type": "code",
      "source": [
        "class ListNode:\n",
        "    def __init__(self, item, next=None):\n",
        "        self.item = item\n",
        "        self.next = next\n",
        "\n",
        "class LinkedListBasic:\n",
        "    def __init__(self):\n",
        "        self.__head = ListNode(\"dummy\", None)\n",
        "        self.__numItems = 0\n",
        "\n",
        "    def __getNode(self, i):\n",
        "        curr = self.__head\n",
        "        for _ in range(i + 1):\n",
        "            curr = curr.next\n",
        "        return curr\n",
        "\n",
        "    def append(self, newItem):\n",
        "        # O(n): 끝 노드를 찾기 위해 순회\n",
        "        prev = self.__getNode(self.__numItems - 1) if self.__numItems > 0 else self.__head\n",
        "        newNode = ListNode(newItem, None)\n",
        "        prev.next = newNode\n",
        "        self.__numItems += 1\n",
        "\n",
        "    def pop_front(self):\n",
        "        # O(1): head 바로 다음 노드 제거\n",
        "        if self.__numItems == 0:\n",
        "            return None\n",
        "        prev = self.__head\n",
        "        curr = prev.next\n",
        "        prev.next = curr.next\n",
        "        self.__numItems -= 1\n",
        "        return curr.item\n",
        "\n",
        "    def printList(self):\n",
        "        result = []\n",
        "        curr = self.__head.next\n",
        "        while curr:\n",
        "            result.append(curr.item)\n",
        "            curr = curr.next\n",
        "        print(\"LinkedList =\", result)\n",
        "\n",
        "# 테스트\n",
        "q = LinkedListBasic()\n",
        "print(\"🔁 append(x): O(n) 수행 확인\")\n",
        "for i in range(5):\n",
        "    q.append(i)\n",
        "    q.printList()\n",
        "\n",
        "print(\"\\n🗑️ pop_front(): O(1) 수행 확인\")\n",
        "for _ in range(5):\n",
        "    print(\"dequeued:\", q.pop_front())\n",
        "    q.printList()"
      ],
      "metadata": {
        "colab": {
          "base_uri": "https://localhost:8080/"
        },
        "id": "uhIyOTmtolcy",
        "outputId": "479faa9a-5f6b-4196-8bf1-bc6ac5479105"
      },
      "execution_count": 1,
      "outputs": [
        {
          "output_type": "stream",
          "name": "stdout",
          "text": [
            "🔁 append(x): O(n) 수행 확인\n",
            "LinkedList = [0]\n",
            "LinkedList = [0, 1]\n",
            "LinkedList = [0, 1, 2]\n",
            "LinkedList = [0, 1, 2, 3]\n",
            "LinkedList = [0, 1, 2, 3, 4]\n",
            "\n",
            "🗑️ pop_front(): O(1) 수행 확인\n",
            "dequeued: 0\n",
            "LinkedList = [1, 2, 3, 4]\n",
            "dequeued: 1\n",
            "LinkedList = [2, 3, 4]\n",
            "dequeued: 2\n",
            "LinkedList = [3, 4]\n",
            "dequeued: 3\n",
            "LinkedList = [4]\n",
            "dequeued: 4\n",
            "LinkedList = []\n"
          ]
        }
      ]
    },
    {
      "cell_type": "markdown",
      "source": [
        "6번 문제의 `dequeue()`는 `pop(0)`을 통해 큐의 앞에서 요소를 제거  \n",
        "이를 일반 연결 리스트(`LinkedListBasic`)로 구현할 경우에도,  \n",
        "**head 포인터를 유지하고 있다면 첫 노드를 제거하는 데는 O(1)** 시간만 필요  \n",
        "\n",
        "### 수행 시간:\n",
        "- `enqueue()`: 리스트의 끝에 요소를 추가  \n",
        "  - **tail 포인터 없음 → O(n)**  \n",
        "  - **tail 포인터 유지 → O(1)**\n",
        "- `dequeue()`: 리스트의 앞에서 요소 제거 → **항상 O(1)**\n",
        "\n",
        "➡️ 핵심은 `enqueue()` 시간 복잡도는 **tail 포인터의 유무**에 따라 결정된다는 점"
      ],
      "metadata": {
        "id": "NsadzS7CndRM"
      }
    },
    {
      "cell_type": "markdown",
      "source": [
        "## __3-8__"
      ],
      "metadata": {
        "id": "fVIBzZaWaY5M"
      }
    },
    {
      "cell_type": "code",
      "source": [
        "class Deque:\n",
        "    def __init__(self):\n",
        "        self.__deque = []\n",
        "\n",
        "    # 뒤에 추가 (기존 enqueue)\n",
        "    def addRear(self, x):\n",
        "        self.__deque.append(x)\n",
        "\n",
        "    # 앞에 추가\n",
        "    def addFront(self, x):\n",
        "        self.__deque.insert(0, x)\n",
        "\n",
        "    # 앞에서 제거 (기존 dequeue)\n",
        "    def deleteFront(self):\n",
        "        if self.isEmpty():\n",
        "            return None\n",
        "        return self.__deque.pop(0)\n",
        "\n",
        "    # 뒤에서 제거\n",
        "    def deleteRear(self):\n",
        "        if self.isEmpty():\n",
        "            return None\n",
        "        return self.__deque.pop()\n",
        "\n",
        "    # 앞(front) 요소 확인\n",
        "    def front(self):\n",
        "        if self.isEmpty():\n",
        "            return None\n",
        "        return self.__deque[0]\n",
        "\n",
        "    # 뒤(rear) 요소 확인\n",
        "    def rear(self):\n",
        "        if self.isEmpty():\n",
        "            return None\n",
        "        return self.__deque[-1]\n",
        "\n",
        "    # 비었는지 확인\n",
        "    def isEmpty(self) -> bool:\n",
        "        return len(self.__deque) == 0\n",
        "\n",
        "    # 전체 비우기\n",
        "    def clear(self):\n",
        "        self.__deque.clear()\n",
        "\n",
        "    # 출력 메서드\n",
        "    def printDeque(self):\n",
        "        print(\"Deque from front:\", end=' ')\n",
        "        for i in range(len(self.__deque)):\n",
        "            print(self.__deque[i], end=' ')\n",
        "        print()\n"
      ],
      "metadata": {
        "id": "gIOznwPfaZsz"
      },
      "execution_count": 2,
      "outputs": []
    },
    {
      "cell_type": "markdown",
      "source": [
        "### 🔄 변경 사항\n",
        "\n",
        "| 구분         | 기존 ListQueue            | 변경 후 Deque 클래스          |\n",
        "|--------------|----------------------------|-------------------------------|\n",
        "| 삽입 메서드  | `enqueue(x)`               | `addRear(x)` (이름 변경)     |\n",
        "| 삭제 메서드  | `dequeue()`                | `deleteFront()` (이름 변경)  |\n",
        "\n",
        "---\n",
        "\n",
        "### ➕ 추가된 메서드\n",
        "\n",
        "| 메서드 이름      | 설명                                |\n",
        "|------------------|-------------------------------------|\n",
        "| `addFront(x)`     | 리스트의 앞에 요소 삽입 (`insert(0, x)`) |\n",
        "| `deleteRear()`    | 리스트의 뒤에서 요소 삭제 (`pop()`)     |\n",
        "| `front()`         | 앞(front) 요소 조회                  |\n",
        "| `rear()`          | 뒤(rear) 요소 조회                  |\n",
        "\n",
        "---\n",
        "\n",
        "### ✅ 유지된 메서드\n",
        "\n",
        "| 메서드 이름     | 설명                             |\n",
        "|----------------|----------------------------------|\n",
        "| `isEmpty()`     | 덱이 비어 있는지 확인 (`len == 0`) |\n",
        "| `clear()`       | 전체 요소 삭제                    |\n",
        "| `printDeque()`  | 현재 덱의 상태 출력 (`앞 → 뒤`)     |"
      ],
      "metadata": {
        "id": "f5h177yEpZnP"
      }
    }
  ]
}