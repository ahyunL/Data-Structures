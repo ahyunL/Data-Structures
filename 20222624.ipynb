{
  "nbformat": 4,
  "nbformat_minor": 0,
  "metadata": {
    "colab": {
      "provenance": []
    },
    "kernelspec": {
      "name": "python3",
      "display_name": "Python 3"
    },
    "language_info": {
      "name": "python"
    }
  },
  "cells": [
    {
      "cell_type": "markdown",
      "source": [
        "# __1. LeetCode 225. Implement Stack using Queues__"
      ],
      "metadata": {
        "id": "tNfbVjm9QM9Q"
      }
    },
    {
      "cell_type": "code",
      "source": [
        "class MyStack:\n",
        "\n",
        "    def __init__(self):\n",
        "        self.q = deque()\n",
        "\n",
        "    def push(self, x: int) -> None:\n",
        "        self.q.append(x)\n",
        "        for i in range(len(self.q) - 1):\n",
        "            self.q.append(self.q.popleft())\n",
        "\n",
        "    def pop(self) -> int:\n",
        "        return self.q.popleft()\n",
        "\n",
        "    def top(self) -> int:\n",
        "        return self.q[0]\n",
        "\n",
        "    def empty(self) -> bool:\n",
        "        return len(self.q) == 0"
      ],
      "metadata": {
        "id": "BOny-bDXQYW6"
      },
      "execution_count": 1,
      "outputs": []
    },
    {
      "cell_type": "markdown",
      "source": [
        "#### 💡 풀이 설명\n",
        "- push 시 큐에 추가한 후, 이전에 있던 요소들을 다시 뒤로 보내서 순서를 바꿈\n",
        "- pop과 top은 큐의 맨 앞 요소를 그대로 꺼내면 됨"
      ],
      "metadata": {
        "id": "kiFqK4TdWVdx"
      }
    },
    {
      "cell_type": "markdown",
      "source": [
        "# __2. LeetCode 232. Implement Queue using Stacks__"
      ],
      "metadata": {
        "id": "X5RkMVN6QZTh"
      }
    },
    {
      "cell_type": "code",
      "source": [
        "class MyQueue:\n",
        "\n",
        "    def __init__(self):\n",
        "        self.stack1 = []\n",
        "        self.stack2 = []\n",
        "\n",
        "    def push(self, x: int) -> None:\n",
        "        self.stack1.append(x)\n",
        "\n",
        "    def pop(self) -> int:\n",
        "        self.peek()\n",
        "        return self.stack2.pop()\n",
        "\n",
        "    def peek(self) -> int:\n",
        "        if not self.stack2:\n",
        "            while self.stack1:\n",
        "                self.stack2.append(self.stack1.pop())\n",
        "        return self.stack2[-1]\n",
        "\n",
        "    def empty(self) -> bool:\n",
        "        return not self.stack1 and not self.stack2"
      ],
      "metadata": {
        "id": "zdcqQS6vQhLa"
      },
      "execution_count": 2,
      "outputs": []
    },
    {
      "cell_type": "markdown",
      "source": [
        "#### 💡 풀이 설명\n",
        "- stack1은 새로 들어오는 값 보관  \n",
        "- stack2는 꺼낼 때만 사용, 비어 있으면 stack1의 값을 모두 옮겨서 순서 뒤집기  \n",
        "\n",
        " → 이렇게 하면 Queue의 FIFO 구조가 구현됨"
      ],
      "metadata": {
        "id": "jgvW0QMMXWYc"
      }
    },
    {
      "cell_type": "markdown",
      "source": [
        "# __3. 교재의 큐 연습문제 전부__"
      ],
      "metadata": {
        "id": "pfDVkzHDQhqf"
      }
    },
    {
      "cell_type": "code",
      "source": [],
      "metadata": {
        "id": "6LHQHfFNQlx_"
      },
      "execution_count": null,
      "outputs": []
    }
  ]
}